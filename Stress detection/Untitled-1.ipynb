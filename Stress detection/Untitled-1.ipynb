{
 "cells": [
  {
   "cell_type": "code",
   "execution_count": 1,
   "metadata": {},
   "outputs": [
    {
     "ename": "ModuleNotFoundError",
     "evalue": "No module named 'RPi'",
     "output_type": "error",
     "traceback": [
      "\u001b[1;31m---------------------------------------------------------------------------\u001b[0m",
      "\u001b[1;31mModuleNotFoundError\u001b[0m                       Traceback (most recent call last)",
      "Cell \u001b[1;32mIn[1], line 4\u001b[0m\n\u001b[0;32m      2\u001b[0m \u001b[38;5;28;01mfrom\u001b[39;00m \u001b[38;5;21;01msklearn\u001b[39;00m\u001b[38;5;21;01m.\u001b[39;00m\u001b[38;5;21;01mensemble\u001b[39;00m \u001b[38;5;28;01mimport\u001b[39;00m RandomForestClassifier\n\u001b[0;32m      3\u001b[0m \u001b[38;5;28;01mimport\u001b[39;00m \u001b[38;5;21;01mtime\u001b[39;00m\n\u001b[1;32m----> 4\u001b[0m \u001b[38;5;28;01mimport\u001b[39;00m \u001b[38;5;21;01mRPi\u001b[39;00m\u001b[38;5;21;01m.\u001b[39;00m\u001b[38;5;21;01mGPIO\u001b[39;00m \u001b[38;5;28;01mas\u001b[39;00m \u001b[38;5;21;01mGPIO\u001b[39;00m\n\u001b[0;32m      6\u001b[0m \u001b[38;5;66;03m# Initialize GPIO pins\u001b[39;00m\n\u001b[0;32m      7\u001b[0m relay_pin \u001b[38;5;241m=\u001b[39m \u001b[38;5;241m17\u001b[39m  \u001b[38;5;66;03m# GPIO pin connected to the relay\u001b[39;00m\n",
      "\u001b[1;31mModuleNotFoundError\u001b[0m: No module named 'RPi'"
     ]
    }
   ],
   "source": [
    "import numpy as np\n",
    "from sklearn.ensemble import RandomForestClassifier\n",
    "import time\n",
    "import RPi.GPIO as GPIO\n",
    "\n",
    "# Initialize GPIO pins\n",
    "relay_pin = 17  # GPIO pin connected to the relay\n",
    "moisture_sensor_pin = 18  # GPIO pin connected to the soil moisture sensor\n",
    "\n",
    "GPIO.setmode(GPIO.BCM)\n",
    "GPIO.setup(relay_pin, GPIO.OUT)\n",
    "GPIO.setup(moisture_sensor_pin, GPIO.IN)\n",
    "\n",
    "# Function to read soil moisture level\n",
    "def read_soil_moisture():\n",
    "    return GPIO.input(moisture_sensor_pin)\n",
    "\n",
    "# Function to control irrigation system\n",
    "def control_irrigation(action):\n",
    "    if action == 'water':\n",
    "        GPIO.output(relay_pin, GPIO.HIGH)  # Turn on water pump\n",
    "        print(\"Watering plants...\")\n",
    "        time.sleep(10)  # Adjust time as needed\n",
    "        GPIO.output(relay_pin, GPIO.LOW)  # Turn off water pump\n",
    "        print(\"Watering complete\")\n",
    "    else:\n",
    "        print(\"No watering needed\")\n",
    "\n",
    "# Load ML model\n",
    "# Assuming you have trained and saved a RandomForestClassifier model\n",
    "model = RandomForestClassifier()\n",
    "model.load_model(\"saved_model.pkl\")\n",
    "\n",
    "# Main loop for continuous operation\n",
    "while True:\n",
    "    try:\n",
    "        # Read environmental data (temperature, humidity) - You can add more sensors if needed\n",
    "        temperature = 25  # Example temperature\n",
    "        humidity = 60  # Example humidity\n",
    "\n",
    "        # Read soil moisture level\n",
    "        soil_moisture = read_soil_moisture()\n",
    "\n",
    "        # Prepare data for prediction\n",
    "        data_for_prediction = np.array([[temperature, humidity, soil_moisture]])\n",
    "\n",
    "        # Predict soil moisture level using ML model\n",
    "        predicted_moisture_label = model.predict(data_for_prediction)[0]\n",
    "\n",
    "        # Determine action based on predicted moisture level\n",
    "        if predicted_moisture_label == 1:  # Adjust threshold as needed\n",
    "            control_irrigation('water')\n",
    "        else:\n",
    "            control_irrigation('no_water')\n",
    "\n",
    "        # Wait for some time before next iteration\n",
    "        time.sleep(3600)  # Adjust interval as needed (e.g., every hour)\n",
    "\n",
    "    except KeyboardInterrupt:\n",
    "        GPIO.cleanup()"
   ]
  },
  {
   "cell_type": "code",
   "execution_count": null,
   "metadata": {},
   "outputs": [],
   "source": []
  }
 ],
 "metadata": {
  "kernelspec": {
   "display_name": "Python 3 (ipykernel)",
   "language": "python",
   "name": "python3"
  },
  "language_info": {
   "codemirror_mode": {
    "name": "ipython",
    "version": 3
   },
   "file_extension": ".py",
   "mimetype": "text/x-python",
   "name": "python",
   "nbconvert_exporter": "python",
   "pygments_lexer": "ipython3",
   "version": "3.11.5"
  }
 },
 "nbformat": 4,
 "nbformat_minor": 2
}
